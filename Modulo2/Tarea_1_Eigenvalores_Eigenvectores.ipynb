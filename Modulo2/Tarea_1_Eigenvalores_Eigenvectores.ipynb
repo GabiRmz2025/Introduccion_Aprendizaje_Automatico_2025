{
 "cells": [
  {
   "cell_type": "markdown",
   "id": "66ace54d",
   "metadata": {},
   "source": [
    "<img style=\"float: left;;\" src='Figures/alinco.png' /></a>\n",
    "    \n",
    "# <center> <font color= #000047> Tarea 1: Eigenvectores y Eigenvalores</font>\n",
    "___\n",
    "\n",
    "Esta tarea consiste en calcular eigenvalores y eigenvectores de matrices siguiendo el calculo a mano, usando la librería numpy y sympy.\n",
    "\n",
    "Los eigenvalores y eigenvectores son conceptos fundamentales en álgebra lineal y tienen aplicaciones en machine learning, física, ingeniería y más."
   ]
  },
  {
   "cell_type": "code",
   "execution_count": 20,
   "id": "c12e2314",
   "metadata": {},
   "outputs": [],
   "source": [
    "import numpy as np\n",
    "import sympy as sym"
   ]
  },
  {
   "cell_type": "markdown",
   "id": "5128eaf8",
   "metadata": {},
   "source": [
    "**1. Calcula los eigenvalores y eigenvectores de la siguiente matriz:**\n",
    "\n",
    "$$A = \\begin{bmatrix} 4 & 2 \\\\ 1 & 3 \\end{bmatrix}$$"
   ]
  },
  {
   "cell_type": "code",
   "execution_count": 21,
   "id": "28f94ec6",
   "metadata": {},
   "outputs": [
    {
     "data": {
      "text/plain": [
       "array([[4, 2],\n",
       "       [1, 3]])"
      ]
     },
     "execution_count": 21,
     "metadata": {},
     "output_type": "execute_result"
    }
   ],
   "source": [
    "# Eigenvalores con numpy\n",
    "A = np.array([[4,2],[1,3]])\n",
    "A"
   ]
  },
  {
   "cell_type": "code",
   "execution_count": 22,
   "id": "2e697aaf-d719-4a38-b7ec-13029ecdcfb6",
   "metadata": {},
   "outputs": [
    {
     "data": {
      "text/plain": [
       "array([5., 2.])"
      ]
     },
     "execution_count": 22,
     "metadata": {},
     "output_type": "execute_result"
    }
   ],
   "source": [
    "x, v = np.linalg.eig(A)\n",
    "x"
   ]
  },
  {
   "cell_type": "code",
   "execution_count": 7,
   "id": "55ae9ff4-1329-439d-aa6d-e699b1f51118",
   "metadata": {},
   "outputs": [
    {
     "data": {
      "text/plain": [
       "array([[ 0.89442719, -0.70710678],\n",
       "       [ 0.4472136 ,  0.70710678]])"
      ]
     },
     "execution_count": 7,
     "metadata": {},
     "output_type": "execute_result"
    }
   ],
   "source": [
    "#Eigenvectores con numpy\n",
    "v"
   ]
  },
  {
   "cell_type": "code",
   "execution_count": 27,
   "id": "b397237a-f1a1-4513-8153-f7177de63b19",
   "metadata": {},
   "outputs": [
    {
     "data": {
      "text/latex": [
       "$\\displaystyle \\left[\\begin{matrix}4 & 2\\\\1 & 3\\end{matrix}\\right]$"
      ],
      "text/plain": [
       "Matrix([\n",
       "[4, 2],\n",
       "[1, 3]])"
      ]
     },
     "execution_count": 27,
     "metadata": {},
     "output_type": "execute_result"
    }
   ],
   "source": [
    "# Eigenvalores con SymPy\n",
    "A = sym.Matrix([[4,2],[1,3]])\n",
    "A"
   ]
  },
  {
   "cell_type": "code",
   "execution_count": 28,
   "id": "2941f5fe-787a-4ca7-ab32-754e4a473dc0",
   "metadata": {},
   "outputs": [
    {
     "data": {
      "text/plain": [
       "{5: 1, 2: 1}"
      ]
     },
     "execution_count": 28,
     "metadata": {},
     "output_type": "execute_result"
    }
   ],
   "source": [
    "A.eigenvals()"
   ]
  },
  {
   "cell_type": "code",
   "execution_count": 29,
   "id": "8717e8ba-c059-43b1-a027-c37260c6eee7",
   "metadata": {},
   "outputs": [
    {
     "data": {
      "text/plain": [
       "[(2,\n",
       "  1,\n",
       "  [Matrix([\n",
       "   [-1],\n",
       "   [ 1]])]),\n",
       " (5,\n",
       "  1,\n",
       "  [Matrix([\n",
       "   [2],\n",
       "   [1]])])]"
      ]
     },
     "execution_count": 29,
     "metadata": {},
     "output_type": "execute_result"
    }
   ],
   "source": [
    "#Eigenvectores con Sympy\n",
    "A.eigenvects()"
   ]
  },
  {
   "cell_type": "code",
   "execution_count": null,
   "id": "ca119ffe-bcbc-4956-b36a-6cec0802268a",
   "metadata": {},
   "outputs": [],
   "source": []
  },
  {
   "cell_type": "markdown",
   "id": "50ab9c3b",
   "metadata": {},
   "source": [
    "**2. Calcula los eigenvalores y eigenvectores de la siguiente matriz:**\n",
    "\n",
    "$$B = \\begin{bmatrix} 2 & 0 \\\\ 0 & 5 \\end{bmatrix}$$"
   ]
  },
  {
   "cell_type": "code",
   "execution_count": 2,
   "id": "5703abf0",
   "metadata": {},
   "outputs": [
    {
     "data": {
      "text/plain": [
       "array([[2, 0],\n",
       "       [0, 5]])"
      ]
     },
     "execution_count": 2,
     "metadata": {},
     "output_type": "execute_result"
    }
   ],
   "source": [
    "# Eigenvalores con numpy\n",
    "B = np.array([[2,0],[0,5]])\n",
    "B"
   ]
  },
  {
   "cell_type": "code",
   "execution_count": 3,
   "id": "c1665fbb-94f9-450e-b378-953958aad2a3",
   "metadata": {},
   "outputs": [
    {
     "data": {
      "text/plain": [
       "array([2., 5.])"
      ]
     },
     "execution_count": 3,
     "metadata": {},
     "output_type": "execute_result"
    }
   ],
   "source": [
    "x, v = np.linalg.eig(B)\n",
    "x"
   ]
  },
  {
   "cell_type": "code",
   "execution_count": 4,
   "id": "ec431a4f-ba52-4daa-b0c0-4b63abb8eeec",
   "metadata": {},
   "outputs": [
    {
     "data": {
      "text/plain": [
       "array([[1., 0.],\n",
       "       [0., 1.]])"
      ]
     },
     "execution_count": 4,
     "metadata": {},
     "output_type": "execute_result"
    }
   ],
   "source": [
    "#Eigenvectores con numpy\n",
    "v"
   ]
  },
  {
   "cell_type": "code",
   "execution_count": 24,
   "id": "316c7391-9f4e-4978-a090-c6193b846e3b",
   "metadata": {},
   "outputs": [
    {
     "data": {
      "text/latex": [
       "$\\displaystyle \\left[\\begin{matrix}2 & 0\\\\0 & 5\\end{matrix}\\right]$"
      ],
      "text/plain": [
       "Matrix([\n",
       "[2, 0],\n",
       "[0, 5]])"
      ]
     },
     "execution_count": 24,
     "metadata": {},
     "output_type": "execute_result"
    }
   ],
   "source": [
    "# Eigenvalores con SymPy\n",
    "B = sym.Matrix([[2,0],[0,5]])\n",
    "B"
   ]
  },
  {
   "cell_type": "code",
   "execution_count": 25,
   "id": "248a3123-19f1-4470-a905-dba4f0914e77",
   "metadata": {},
   "outputs": [
    {
     "data": {
      "text/plain": [
       "{2: 1, 5: 1}"
      ]
     },
     "execution_count": 25,
     "metadata": {},
     "output_type": "execute_result"
    }
   ],
   "source": [
    "B.eigenvals()"
   ]
  },
  {
   "cell_type": "code",
   "execution_count": 26,
   "id": "3e835aac-6535-478d-990b-ff307cf395d3",
   "metadata": {},
   "outputs": [
    {
     "data": {
      "text/plain": [
       "[(2,\n",
       "  1,\n",
       "  [Matrix([\n",
       "   [1],\n",
       "   [0]])]),\n",
       " (5,\n",
       "  1,\n",
       "  [Matrix([\n",
       "   [0],\n",
       "   [1]])])]"
      ]
     },
     "execution_count": 26,
     "metadata": {},
     "output_type": "execute_result"
    }
   ],
   "source": [
    "#Eigenvectores con Sympy\n",
    "B.eigenvects()"
   ]
  },
  {
   "cell_type": "markdown",
   "id": "a5d8abb6",
   "metadata": {},
   "source": [
    "**3. Eigenvalores y eigenvectores de una matriz 3x3**\n",
    "\n",
    "Calcula los eigenvalores y eigenvectores de la siguiente matriz:\n",
    "\n",
    "$$C = \\begin{bmatrix} 1 & 2 & 3 \\\\ 0 & 4 & 5 \\\\ 0 & 0 & 6 \\end{bmatrix}$$"
   ]
  },
  {
   "cell_type": "code",
   "execution_count": 5,
   "id": "dc150e72",
   "metadata": {},
   "outputs": [
    {
     "data": {
      "text/plain": [
       "array([[1, 2, 3],\n",
       "       [0, 4, 5],\n",
       "       [0, 0, 6]])"
      ]
     },
     "execution_count": 5,
     "metadata": {},
     "output_type": "execute_result"
    }
   ],
   "source": [
    "# Eigenvalores con numpy\n",
    "C = np.array([[1,2,3],[0,4,5],[0,0,6]])\n",
    "C"
   ]
  },
  {
   "cell_type": "code",
   "execution_count": 6,
   "id": "eef72008-d3cb-4f29-a245-6d9a521cf8a1",
   "metadata": {},
   "outputs": [
    {
     "data": {
      "text/plain": [
       "array([1., 4., 6.])"
      ]
     },
     "execution_count": 6,
     "metadata": {},
     "output_type": "execute_result"
    }
   ],
   "source": [
    "x, v = np.linalg.eig(C)\n",
    "x"
   ]
  },
  {
   "cell_type": "code",
   "execution_count": 30,
   "id": "f3bde944-e7f1-45a7-b2c6-e939d78124a6",
   "metadata": {},
   "outputs": [
    {
     "data": {
      "text/plain": [
       "array([[ 0.89442719, -0.70710678],\n",
       "       [ 0.4472136 ,  0.70710678]])"
      ]
     },
     "execution_count": 30,
     "metadata": {},
     "output_type": "execute_result"
    }
   ],
   "source": [
    "#Eigenvectores con numpy\n",
    "v"
   ]
  },
  {
   "cell_type": "code",
   "execution_count": 31,
   "id": "d885e939-8a1d-44ea-b836-b54a51f144ba",
   "metadata": {},
   "outputs": [
    {
     "data": {
      "text/latex": [
       "$\\displaystyle \\left[\\begin{matrix}1 & 2 & 3\\\\0 & 4 & 5\\\\0 & 0 & 6\\end{matrix}\\right]$"
      ],
      "text/plain": [
       "Matrix([\n",
       "[1, 2, 3],\n",
       "[0, 4, 5],\n",
       "[0, 0, 6]])"
      ]
     },
     "execution_count": 31,
     "metadata": {},
     "output_type": "execute_result"
    }
   ],
   "source": [
    "# Eigenvalores con SymPy\n",
    "C = sym.Matrix([[1,2,3],[0,4,5],[0,0,6]])\n",
    "C"
   ]
  },
  {
   "cell_type": "code",
   "execution_count": 32,
   "id": "afa6ecd0-68fa-4b5d-bd04-32cabbc56a95",
   "metadata": {},
   "outputs": [
    {
     "data": {
      "text/plain": [
       "{6: 1, 4: 1, 1: 1}"
      ]
     },
     "execution_count": 32,
     "metadata": {},
     "output_type": "execute_result"
    }
   ],
   "source": [
    "C.eigenvals()"
   ]
  },
  {
   "cell_type": "code",
   "execution_count": 33,
   "id": "38bea595-28fb-455a-87ac-b68efb1d3519",
   "metadata": {},
   "outputs": [
    {
     "data": {
      "text/plain": [
       "[(1,\n",
       "  1,\n",
       "  [Matrix([\n",
       "   [1],\n",
       "   [0],\n",
       "   [0]])]),\n",
       " (4,\n",
       "  1,\n",
       "  [Matrix([\n",
       "   [2/3],\n",
       "   [  1],\n",
       "   [  0]])]),\n",
       " (6,\n",
       "  1,\n",
       "  [Matrix([\n",
       "   [8/5],\n",
       "   [5/2],\n",
       "   [  1]])])]"
      ]
     },
     "execution_count": 33,
     "metadata": {},
     "output_type": "execute_result"
    }
   ],
   "source": [
    "#Eigenvectores con Sympy\n",
    "C.eigenvects()"
   ]
  },
  {
   "cell_type": "markdown",
   "id": "61642ded",
   "metadata": {},
   "source": [
    "**4. Calcula los eigenvalores y eigenvectores de la siguiente matriz:**\n",
    "\n",
    "$$D = \\begin{bmatrix} 0 & 1 \\\\ -2 & -3 \\end{bmatrix}$$"
   ]
  },
  {
   "cell_type": "code",
   "execution_count": 9,
   "id": "ab5dd7b2",
   "metadata": {},
   "outputs": [
    {
     "data": {
      "text/plain": [
       "array([[ 0,  1],\n",
       "       [-2, -3]])"
      ]
     },
     "execution_count": 9,
     "metadata": {},
     "output_type": "execute_result"
    }
   ],
   "source": [
    "# Eigenvalores con numpy\n",
    "D = np.array([[0,1],[-2,-3]])\n",
    "D"
   ]
  },
  {
   "cell_type": "code",
   "execution_count": 10,
   "id": "e0f656ba-7c0c-4f19-9e6e-ee0b2ddc18fe",
   "metadata": {},
   "outputs": [
    {
     "data": {
      "text/plain": [
       "array([-1., -2.])"
      ]
     },
     "execution_count": 10,
     "metadata": {},
     "output_type": "execute_result"
    }
   ],
   "source": [
    "x, v = np.linalg.eig(D)\n",
    "x"
   ]
  },
  {
   "cell_type": "code",
   "execution_count": 37,
   "id": "06bb0470-bae6-4c6c-bebc-f61d2dfbfc56",
   "metadata": {},
   "outputs": [
    {
     "data": {
      "text/plain": [
       "array([[ 0.89442719, -0.70710678],\n",
       "       [ 0.4472136 ,  0.70710678]])"
      ]
     },
     "execution_count": 37,
     "metadata": {},
     "output_type": "execute_result"
    }
   ],
   "source": [
    "#Eigenvectores con numpy\n",
    "v"
   ]
  },
  {
   "cell_type": "code",
   "execution_count": 38,
   "id": "9447579e-fc00-4ac7-b947-043294c0c76d",
   "metadata": {},
   "outputs": [
    {
     "data": {
      "text/latex": [
       "$\\displaystyle \\left[\\begin{matrix}0 & 1\\\\-2 & -3\\end{matrix}\\right]$"
      ],
      "text/plain": [
       "Matrix([\n",
       "[ 0,  1],\n",
       "[-2, -3]])"
      ]
     },
     "execution_count": 38,
     "metadata": {},
     "output_type": "execute_result"
    }
   ],
   "source": [
    "# Eigenvalores con SymPy\n",
    "D = sym.Matrix([[0,1],[-2,-3]])\n",
    "D"
   ]
  },
  {
   "cell_type": "code",
   "execution_count": 41,
   "id": "a6b764ea-55c8-4022-a9cc-fbed5c4f3973",
   "metadata": {},
   "outputs": [
    {
     "data": {
      "text/plain": [
       "{-1: 1, -2: 1}"
      ]
     },
     "execution_count": 41,
     "metadata": {},
     "output_type": "execute_result"
    }
   ],
   "source": [
    "D.eigenvals()"
   ]
  },
  {
   "cell_type": "code",
   "execution_count": 42,
   "id": "7dd0246f-c125-414a-9d63-91057cfe6be9",
   "metadata": {},
   "outputs": [
    {
     "data": {
      "text/plain": [
       "[(-2,\n",
       "  1,\n",
       "  [Matrix([\n",
       "   [-1/2],\n",
       "   [   1]])]),\n",
       " (-1,\n",
       "  1,\n",
       "  [Matrix([\n",
       "   [-1],\n",
       "   [ 1]])])]"
      ]
     },
     "execution_count": 42,
     "metadata": {},
     "output_type": "execute_result"
    }
   ],
   "source": [
    "#Eigenvectores con Sympy\n",
    "D.eigenvects()"
   ]
  },
  {
   "cell_type": "markdown",
   "id": "3843108c",
   "metadata": {},
   "source": [
    "**5. Crea una matriz cuadrada aleatoria de tamaño 4x4 y calcula sus eigenvalores y eigenvectores.**"
   ]
  },
  {
   "cell_type": "code",
   "execution_count": null,
   "id": "842434ad",
   "metadata": {},
   "outputs": [],
   "source": []
  }
 ],
 "metadata": {
  "kernelspec": {
   "display_name": "Python [conda env:base] *",
   "language": "python",
   "name": "conda-base-py"
  },
  "language_info": {
   "codemirror_mode": {
    "name": "ipython",
    "version": 3
   },
   "file_extension": ".py",
   "mimetype": "text/x-python",
   "name": "python",
   "nbconvert_exporter": "python",
   "pygments_lexer": "ipython3",
   "version": "3.13.5"
  }
 },
 "nbformat": 4,
 "nbformat_minor": 5
}
