{
 "cells": [
  {
   "cell_type": "markdown",
   "metadata": {},
   "source": [
    "<img style=\"float: left;;\" src='Figures/alinco.png' /></a>\n",
    "    \n",
    "# <center> <font color= #000047> Actividad 4: Programación lineal ( Ejercicios )</font>\n",
    "___\n",
    "\n"
   ]
  },
  {
   "cell_type": "markdown",
   "metadata": {},
   "source": [
    "### 1. Diseño de la Dieta Óptima\n",
    "\n",
    "Se quiere producir comida para gatos de la manera más barata, no obstante se debe también asegurar que se cumplan los datos requeridos de analisis nutricional. Por lo que se quiere variar la cantidad de cada ingrediente para cumplir con los estandares nutricionales. Los requisitos que se tienen es que en 100 gramos, se deben tener por lo menos 8 gramos de proteína y 6 gramos de grasa. Así mismo, no se debe tener más de 2 gramos de fibra y 0.4 gramos de sal.  \n",
    "\n",
    "Los datos nutricionales se pueden obtener de la siguiente tabla:\n",
    "\n",
    "|Ingrediente|Proteína|Grasa|Fibra|Sal|\n",
    "|----|---- |---- |---- |---- |\n",
    "|Pollo|  10.0%|08.0%|00.1%|00.2%\n",
    "|Carne|  20.0%|10.0%|00.5%|00.5%\n",
    "|Cordero|15.0%|11.0%|00.5%|00.7%\n",
    "|Arroz|  00.0%|01.0%|10.0%|00.2%\n",
    "|Trigo|  04.0%|01.0%|15.0%|00.8%\n",
    "|Gel|    00.0%|00.0%|00.0%|00.0%\n",
    "\n",
    "Los costos de cada producto son:\n",
    "\n",
    "Ingrediente|Costo por gramo\n",
    ":----|----\n",
    "Pollo|$\\$$0.013\n",
    "Carne|$\\$$0.008\n",
    "Cordero|$\\$$0.010\n",
    "Arroz|$\\$$0.002\n",
    "Trigo|$\\$$0.005\n",
    "Gel|$\\$$0.001    \n",
    "\n",
    "Lo que se busca optimizar en este caso es la cantidad de productos que se debe utilizar en la comida de gato, para simplificar la notación se van a nombrar las siguientes variables: \n",
    "\n",
    "$x_1:$ Gramos de pollo  \n",
    "$x_2:$ Gramos de carne  \n",
    "$x_3:$ Gramos de cordero  \n",
    "$x_4:$ Gramos de arroz  \n",
    "$x_5:$ Gramos de trigo  \n",
    "$x_6:$ Gramos de gel  \n",
    "\n",
    "Con los datos, se puede plantear la función objetivo, está dada por la siguiente expresión:\n",
    "\n",
    "$$\\min 0.013 x_1 + 0.008 x_2 + 0.010 x_3 + 0.002 x_4 + 0.005 x_5 + 0.001 x_6$$\n",
    "\n",
    "Las restricciones estarían dadas por el siguiente conjunto de ecuaciones:\n",
    "\n",
    "$x_1+x_2+x_3+x_4+x_5+x_6=100$  \n",
    "\n",
    "$(10.0 x_1+ 20.0 x_2+ 15.0 x_3+ 00.0 x_4+ 04.0 x_5+ 00.0 x_6)/100 \\geq 8.0$  \n",
    "\n",
    "$(08.0 x_1+ 10.0 x_2+ 11.0 x_3+ 01.0 x_4+ 01.0 x_5+ 00.0 x_6)/100 \\geq 6.0$  \n",
    "\n",
    "$(00.1 x_1+ 00.5 x_2+ 00.5 x_3+ 10.0 x_4+ 15.0 x_5+ 00.0 x_6)/100 \\leq 2.0$  \n",
    "\n",
    "$(00.2 x_1+ 00.5 x_2+ 00.7 x_3+ 00.2 x_4+ 00.8 x_5+ 00.0 x_6)/100 \\leq 0.4$  \n",
    "\n",
    "La primer condición asegura que la cantidad de productos que se usará cumple con los 100 gramos. Las siguientes sólo siguen los lineamientos planteados para cumplir con los requisitos nutrimentales. "
   ]
  },
  {
   "cell_type": "code",
   "execution_count": 4,
   "metadata": {},
   "outputs": [],
   "source": [
    "import numpy as np\n",
    "from scipy import optimize as opt\n",
    "#import scipy.optimize as opt"
   ]
  },
  {
   "cell_type": "code",
   "execution_count": 43,
   "metadata": {},
   "outputs": [],
   "source": [
    "#Creación de la Matrices y cotas\n",
    "\n",
    "#Valores de la función objetivo, costo por gramo según el ingrediente de x1 a x6\n",
    "c = np.array([0.013, 0.008, 0.010, 0.002, 0.005, 0.001])\n",
    "\n",
    "# Restricción la suma de todos los ingredientes es igual a 100\n",
    "# x1 + x2 + x3 + x4 + x5 + x6 = 100\n",
    "ingredientes = np.array([[1, 1, 1, 1, 1, 1]])\n",
    "s_ingredientes = np.array([100])\n",
    "\n",
    "#Restricciones datos nutricionales \n",
    "nutricion = np.array([[-0.10, -0.20, -0.15, 0.0, -0.04, 0.0], #proteina >=8 y <=-8\n",
    "         [-0.08, -0.10, -0.11, -0.01, -0.01, 0.0],         #grasa >=6 y <=-6\n",
    "         [0.001, 0.005, 0.005, 0.10, 0.15, 0.0],           #fibra <=2\n",
    "         [0.002, 0.005, 0.007, 0.002, 0.008, 0.0]])        #sal <=0.4\n",
    "\n",
    "m_nutricion = np.array([-8, -6, 2, 0.4])\n",
    "\n",
    "#Cotas\n",
    "bounds = [(0,None)] * 6\n"
   ]
  },
  {
   "cell_type": "code",
   "execution_count": 44,
   "metadata": {},
   "outputs": [
    {
     "data": {
      "text/plain": [
       "        message: Optimization terminated successfully. (HiGHS Status 7: Optimal)\n",
       "        success: True\n",
       "         status: 0\n",
       "            fun: 0.52\n",
       "              x: [ 0.000e+00  6.000e+01  0.000e+00  0.000e+00  0.000e+00\n",
       "                   4.000e+01]\n",
       "            nit: 2\n",
       "          lower:  residual: [ 0.000e+00  6.000e+01  0.000e+00  0.000e+00\n",
       "                              0.000e+00  4.000e+01]\n",
       "                 marginals: [ 6.400e-03  0.000e+00  1.300e-03  3.000e-04\n",
       "                              3.300e-03  0.000e+00]\n",
       "          upper:  residual: [       inf        inf        inf        inf\n",
       "                                    inf        inf]\n",
       "                 marginals: [ 0.000e+00  0.000e+00  0.000e+00  0.000e+00\n",
       "                              0.000e+00  0.000e+00]\n",
       "          eqlin:  residual: [ 0.000e+00]\n",
       "                 marginals: [ 1.000e-03]\n",
       "        ineqlin:  residual: [ 4.000e+00  0.000e+00  1.700e+00  1.000e-01]\n",
       "                 marginals: [-0.000e+00 -7.000e-02 -0.000e+00 -0.000e+00]\n",
       " mip_node_count: 0\n",
       " mip_dual_bound: 0.0\n",
       "        mip_gap: 0.0"
      ]
     },
     "execution_count": 44,
     "metadata": {},
     "output_type": "execute_result"
    }
   ],
   "source": [
    "resultado = opt.linprog(c=c, A_ub=nutricion, b_ub=m_nutricion, A_eq=ingredientes, b_eq=s_ingredientes, bounds=bounds,method='highs')\n",
    "resultado"
   ]
  },
  {
   "cell_type": "code",
   "execution_count": 46,
   "metadata": {},
   "outputs": [
    {
     "data": {
      "text/plain": [
       "array([0.013, 0.008, 0.01 , 0.002, 0.005, 0.001])"
      ]
     },
     "execution_count": 46,
     "metadata": {},
     "output_type": "execute_result"
    }
   ],
   "source": [
    "c"
   ]
  },
  {
   "cell_type": "code",
   "execution_count": 47,
   "metadata": {},
   "outputs": [
    {
     "data": {
      "text/plain": [
       "array([ 0., 60.,  0.,  0.,  0., 40.])"
      ]
     },
     "execution_count": 47,
     "metadata": {},
     "output_type": "execute_result"
    }
   ],
   "source": [
    "#Solución Factible, valores óptimos de la mezcla que se debe utilizar en la comida de gato\n",
    "x_min = resultado.x\n",
    "np.round(x_min)"
   ]
  },
  {
   "cell_type": "code",
   "execution_count": 48,
   "metadata": {},
   "outputs": [
    {
     "data": {
      "text/plain": [
       "np.float64(0.52)"
      ]
     },
     "execution_count": 48,
     "metadata": {},
     "output_type": "execute_result"
    }
   ],
   "source": [
    "#Costo mínimo total\n",
    "c.T.dot(x_min)"
   ]
  },
  {
   "cell_type": "markdown",
   "metadata": {},
   "source": [
    "Conclusión:\n",
    "La mezcla de ingredientes que se debe utilizar para la comida del gato que cumple con todas las restricciones nutricionales son 60 gramos de Carne(x2) y 40 gramos de Gel(x6), por un costo mínimo total de $0.52 (60*0.008)+(40*0.001).\n",
    "\n",
    "Carne (60 gramos): 12 gramos de proteína >= 8g, 6 gramos de grasa >=6g, 0.3 gramos de fibra <= 2g y 0.3 gramos de sal <= 0.4g.\n",
    "Gel(40 gramos): me da 0 gramos de proteína, grasa, fibra y sal."
   ]
  },
  {
   "cell_type": "markdown",
   "metadata": {},
   "source": [
    "### 2. Otro problema de transporte\n",
    "\n",
    "Supongamos que tenemos que enviar cajas de cervezas de 2 cervecerías (Modelo y Cuauhtémoc Moctezuma) a 5 bares de acuerdo al siguiente gráfico:\n",
    "\n",
    "<img style=\"float: center; margin: 0px 0px 15px 15px;\" src=\"https://relopezbriega.github.io/images/Trans_problem.png\" width=\"500px\" height=\"150px\" />\n",
    "\n",
    "Asimismo, supongamos que nuestro gerente financiero nos informa que el costo de transporte por caja de cada ruta se conforma de acuerdo a la siguiente tabla:"
   ]
  },
  {
   "cell_type": "code",
   "execution_count": 27,
   "metadata": {},
   "outputs": [
    {
     "data": {
      "text/html": [
       "<div>\n",
       "<style scoped>\n",
       "    .dataframe tbody tr th:only-of-type {\n",
       "        vertical-align: middle;\n",
       "    }\n",
       "\n",
       "    .dataframe tbody tr th {\n",
       "        vertical-align: top;\n",
       "    }\n",
       "\n",
       "    .dataframe thead th {\n",
       "        text-align: right;\n",
       "    }\n",
       "</style>\n",
       "<table border=\"1\" class=\"dataframe\">\n",
       "  <thead>\n",
       "    <tr style=\"text-align: right;\">\n",
       "      <th></th>\n",
       "      <th>Bar1</th>\n",
       "      <th>Bar2</th>\n",
       "      <th>Bar3</th>\n",
       "      <th>Bar4</th>\n",
       "      <th>Bar5</th>\n",
       "    </tr>\n",
       "  </thead>\n",
       "  <tbody>\n",
       "    <tr>\n",
       "      <th>CerveceriaA</th>\n",
       "      <td>2</td>\n",
       "      <td>4</td>\n",
       "      <td>5</td>\n",
       "      <td>2</td>\n",
       "      <td>1</td>\n",
       "    </tr>\n",
       "    <tr>\n",
       "      <th>CerveceriaB</th>\n",
       "      <td>3</td>\n",
       "      <td>1</td>\n",
       "      <td>3</td>\n",
       "      <td>2</td>\n",
       "      <td>3</td>\n",
       "    </tr>\n",
       "  </tbody>\n",
       "</table>\n",
       "</div>"
      ],
      "text/plain": [
       "             Bar1  Bar2  Bar3  Bar4  Bar5\n",
       "CerveceriaA     2     4     5     2     1\n",
       "CerveceriaB     3     1     3     2     3"
      ]
     },
     "execution_count": 27,
     "metadata": {},
     "output_type": "execute_result"
    }
   ],
   "source": [
    "#Crear dataframe\n",
    "import pandas as pd\n",
    "info = pd.DataFrame({'Bar1': [2, 3], 'Bar2': [4, 1], 'Bar3': [5, 3], 'Bar4': [2, 2], 'Bar5': [1, 3]}, index = ['CerveceriaA', 'CerveceriaB'])\n",
    "info"
   ]
  },
  {
   "cell_type": "markdown",
   "metadata": {},
   "source": [
    "Y por último, las restricciones del problema, van a estar dadas por las capacidades de oferta y demanda de cada cervecería (en cajas de cerveza) y cada bar, las cuales se detallan en el gráfico de más arriba.\n",
    "\n",
    "Sean:\n",
    "- $x_i$ cajas transportadas de la cervecería A al Bar $i$,\n",
    "- $x_{i+5}$ cajas transportadas de la cervecería B al Bar $i$.\n",
    "\n",
    "Plantear el problema de minimizar el costo de transporte de la forma vista y resolverlo con `linprog`. \n",
    "\n"
   ]
  },
  {
   "cell_type": "code",
   "execution_count": 16,
   "metadata": {},
   "outputs": [],
   "source": [
    "import numpy as np\n",
    "#from scipy.optimize import linprog\n",
    "from scipy import optimize as opt"
   ]
  },
  {
   "cell_type": "raw",
   "metadata": {},
   "source": [
    "Cervecerias = 2\n",
    "A = Cervecería Modelo\n",
    "B = Cervecería Cuauhtémoc Moctezuma\n",
    "Bares = 5\n",
    "Bar1, Bar2, Bar3, Bar4, Bar5\n",
    "x = caja, donde son 10 envíos\n",
    "\n",
    "Restricciones de la Oferta de las Cervecerías\n",
    "x1 a x5 enviadas de la Cervecería Modelo, x1 + x2 + x3 + x4 + x5 ≤ 1000\n",
    "x6 a x10 enviadas de la Cervecería Cuauhtémoc Moctezuma,  x6 + x7 + x8 + x9 + x10 ≤ 4000\n",
    "\n",
    "xi ≥ 0, donde i = 1, …,10 Cajas enviadas\n",
    "\n",
    "Restricciones de la Demanda de los Bares\n",
    "Bar1-->𝑥1 + 𝑥6 = 500\n",
    "Bar2-->𝑥2 + 𝑥7 = 900\n",
    "Bar3-->𝑥3 + 𝑥8 = 1800\n",
    "Bar4-->𝑥4 + 𝑥9 = 200\n",
    "Bar5-->𝑥5 + 𝑥10 = 700\n"
   ]
  },
  {
   "cell_type": "code",
   "execution_count": 25,
   "metadata": {},
   "outputs": [],
   "source": [
    "# Costos de transporte c = costos\n",
    "c = np.array([2,4,5,2,1,   # Costo por caja de Cervecería A a cada Bar del 1 al 5\n",
    "              3,1,3,2,3])   # Costo por caja de Cervecería B a cada Bar del 1 al 5\n",
    "\n",
    "# Oferta de la Cerveccería A y de la Cervecería B, total de oferta A+B= 5,000\n",
    "reparto = np.array([[1, 1, 1, 1, 1, 0, 0, 0, 0, 0], [0, 0, 0, 0, 0, 1, 1, 1, 1, 1]])\n",
    "oferta = np.array([1000, 4000])\n",
    "\n",
    "# Demanda de cada uno de los cinco Bares, total de demanda b1 + b2 + b3 + b4 + b5= 4,100\n",
    "captacion = np.array([[1, 0, 0, 0, 0, 1, 0, 0, 0, 0],\n",
    "                     [0, 1, 0, 0, 0, 0, 1, 0, 0, 0],\n",
    "                     [0, 0, 1, 0, 0, 0, 0, 1, 0, 0],\n",
    "                     [0, 0, 0, 1, 0, 0, 0, 0, 1, 0],\n",
    "                     [0, 0, 0, 0, 1, 0, 0, 0, 0, 1]])\n",
    "\n",
    "demanda = np.array([500, 900, 1800, 200, 700])\n",
    "\n",
    "#Cotas\n",
    "bounds = [(0,None)]"
   ]
  },
  {
   "cell_type": "code",
   "execution_count": 26,
   "metadata": {},
   "outputs": [
    {
     "data": {
      "text/plain": [
       "        message: Optimization terminated successfully. (HiGHS Status 7: Optimal)\n",
       "        success: True\n",
       "         status: 0\n",
       "            fun: 8600.0\n",
       "              x: [ 3.000e+02  0.000e+00  0.000e+00  0.000e+00  7.000e+02\n",
       "                   2.000e+02  9.000e+02  1.800e+03  2.000e+02  0.000e+00]\n",
       "            nit: 1\n",
       "          lower:  residual: [ 3.000e+02  0.000e+00  0.000e+00  0.000e+00\n",
       "                              7.000e+02  2.000e+02  9.000e+02  1.800e+03\n",
       "                              2.000e+02  0.000e+00]\n",
       "                 marginals: [ 0.000e+00  4.000e+00  3.000e+00  1.000e+00\n",
       "                              0.000e+00  0.000e+00  0.000e+00  0.000e+00\n",
       "                              0.000e+00  1.000e+00]\n",
       "          upper:  residual: [       inf        inf        inf        inf\n",
       "                                    inf        inf        inf        inf\n",
       "                                    inf        inf]\n",
       "                 marginals: [ 0.000e+00  0.000e+00  0.000e+00  0.000e+00\n",
       "                              0.000e+00  0.000e+00  0.000e+00  0.000e+00\n",
       "                              0.000e+00  0.000e+00]\n",
       "          eqlin:  residual: [ 0.000e+00  0.000e+00  0.000e+00  0.000e+00\n",
       "                              0.000e+00]\n",
       "                 marginals: [ 3.000e+00  1.000e+00  3.000e+00  2.000e+00\n",
       "                              2.000e+00]\n",
       "        ineqlin:  residual: [ 0.000e+00  9.000e+02]\n",
       "                 marginals: [-1.000e+00 -0.000e+00]\n",
       " mip_node_count: 0\n",
       " mip_dual_bound: 0.0\n",
       "        mip_gap: 0.0"
      ]
     },
     "execution_count": 26,
     "metadata": {},
     "output_type": "execute_result"
    }
   ],
   "source": [
    "resultado = opt.linprog(c=c, A_ub=reparto, b_ub=oferta, A_eq=captacion, b_eq=demanda, bounds=bounds, method='highs')\n",
    "resultado"
   ]
  },
  {
   "cell_type": "code",
   "execution_count": 27,
   "metadata": {},
   "outputs": [
    {
     "data": {
      "text/plain": [
       "array([2, 4, 5, 2, 1, 3, 1, 3, 2, 3])"
      ]
     },
     "execution_count": 27,
     "metadata": {},
     "output_type": "execute_result"
    }
   ],
   "source": [
    "c"
   ]
  },
  {
   "cell_type": "code",
   "execution_count": 31,
   "metadata": {},
   "outputs": [
    {
     "data": {
      "text/plain": [
       "array([ 300.,    0.,    0.,    0.,  700.,  200.,  900., 1800.,  200.,\n",
       "          0.])"
      ]
     },
     "execution_count": 31,
     "metadata": {},
     "output_type": "execute_result"
    }
   ],
   "source": [
    "#Entrega de cajas a cada cervecería\n",
    "x_min = resultado.x\n",
    "np.round(x_min)"
   ]
  },
  {
   "cell_type": "code",
   "execution_count": 32,
   "metadata": {},
   "outputs": [
    {
     "data": {
      "text/plain": [
       "np.float64(8600.0)"
      ]
     },
     "execution_count": 32,
     "metadata": {},
     "output_type": "execute_result"
    }
   ],
   "source": [
    "#Costo mínimo total\n",
    "c.T.dot(x_min)"
   ]
  },
  {
   "cell_type": "markdown",
   "metadata": {},
   "source": [
    "Conclusión:\n",
    "El costo mínimo total es de $8,600. \n",
    "Mapa de entrega de cajas de cervecceria a bar\n",
    "Cervecería A = (300, 0, 0, 0, 700) = 1,000 cajas repartidas\n",
    "Cerveceria B = (200, 900, 1800, 200, 0) = 3,100 cajas repartidas\n",
    "Total entregadas 4,100\n",
    "\n",
    "Costo = (300*2)+(700*1)+(200*3)+(900*1)+(1800*3)+(200*2)=8,600"
   ]
  }
 ],
 "metadata": {
  "kernelspec": {
   "display_name": "Python [conda env:base] *",
   "language": "python",
   "name": "conda-base-py"
  },
  "language_info": {
   "codemirror_mode": {
    "name": "ipython",
    "version": 3
   },
   "file_extension": ".py",
   "mimetype": "text/x-python",
   "name": "python",
   "nbconvert_exporter": "python",
   "pygments_lexer": "ipython3",
   "version": "3.13.5"
  }
 },
 "nbformat": 4,
 "nbformat_minor": 4
}
