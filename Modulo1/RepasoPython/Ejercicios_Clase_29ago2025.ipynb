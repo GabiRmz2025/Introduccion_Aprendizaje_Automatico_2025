{
 "cells": [
  {
   "cell_type": "code",
   "execution_count": null,
   "id": "1cf67c01-5184-46c8-829b-ba7e5e8fa680",
   "metadata": {},
   "outputs": [],
   "source": [
    "#Ejercicios 1 de Numpy\n"
   ]
  },
  {
   "cell_type": "code",
   "execution_count": 3,
   "id": "9c323d84-23b3-43ce-b880-fb8b26468e69",
   "metadata": {},
   "outputs": [
    {
     "data": {
      "text/plain": [
       "array([10, 11, 12, 13, 14, 15, 16, 17, 18, 19, 20, 21, 22, 23, 24, 25, 26,\n",
       "       27, 28, 29, 30, 31, 32, 33, 34, 35, 36, 37, 38, 39, 40, 41, 42, 43,\n",
       "       44, 45, 46, 47, 48, 49])"
      ]
     },
     "execution_count": 3,
     "metadata": {},
     "output_type": "execute_result"
    }
   ],
   "source": [
    "import numpy as np\n",
    "#Ejercicio 1 Crear un vector con valores de 10 a 49\n",
    "a = np.arange(10,50)\n",
    "a"
   ]
  },
  {
   "cell_type": "code",
   "execution_count": 4,
   "id": "50143f24-15a5-4002-81da-297eede526e4",
   "metadata": {},
   "outputs": [
    {
     "name": "stdout",
     "output_type": "stream",
     "text": [
      "144\n",
      "225\n",
      "324\n",
      "441\n",
      "576\n",
      "729\n",
      "900\n",
      "1089\n",
      "1296\n",
      "1521\n",
      "1764\n",
      "2025\n",
      "2304\n"
     ]
    }
   ],
   "source": [
    "#Ejercicio 2. Elevar al cuadro a aquellos números divisubles de 3\n",
    "for i in range(len(a)):\n",
    "    if a[i]%3==0:\n",
    "        print(a[i]**2)"
   ]
  },
  {
   "cell_type": "code",
   "execution_count": 6,
   "id": "9d43d301-b26e-4fcc-9e7c-0321b9319d89",
   "metadata": {},
   "outputs": [
    {
     "data": {
      "text/plain": [
       "array([ 144,  225,  324,  441,  576,  729,  900, 1089, 1296, 1521, 1764,\n",
       "       2025, 2304])"
      ]
     },
     "execution_count": 6,
     "metadata": {},
     "output_type": "execute_result"
    }
   ],
   "source": [
    "a[a%3==0]**2"
   ]
  },
  {
   "cell_type": "code",
   "execution_count": 10,
   "id": "7c4c5b13-6ffc-4bec-b163-d8db36badc19",
   "metadata": {},
   "outputs": [
    {
     "data": {
      "text/plain": [
       "array([ 0,  1,  2,  3,  4,  5,  6,  7,  8,  9, 10, 11, 12, 13, 14, 15, 16,\n",
       "       17, 18, 19, 20, 21, 22, 23, 24, 25, 26, 27, 28, 29, 30, 31, 32, 33,\n",
       "       34, 35, 36, 37, 38, 39])"
      ]
     },
     "execution_count": 10,
     "metadata": {},
     "output_type": "execute_result"
    }
   ],
   "source": [
    "#Ejercicio 3 Redimensionar ese vector en una matriz de 20x2\n",
    "a2 = np.arange(40)\n",
    "a2.shape\n",
    "a2"
   ]
  },
  {
   "cell_type": "code",
   "execution_count": 11,
   "id": "024b796a-9fe6-410c-ac58-6d77c4c17f2f",
   "metadata": {},
   "outputs": [
    {
     "data": {
      "text/plain": [
       "array([[ 0,  1],\n",
       "       [ 2,  3],\n",
       "       [ 4,  5],\n",
       "       [ 6,  7],\n",
       "       [ 8,  9],\n",
       "       [10, 11],\n",
       "       [12, 13],\n",
       "       [14, 15],\n",
       "       [16, 17],\n",
       "       [18, 19],\n",
       "       [20, 21],\n",
       "       [22, 23],\n",
       "       [24, 25],\n",
       "       [26, 27],\n",
       "       [28, 29],\n",
       "       [30, 31],\n",
       "       [32, 33],\n",
       "       [34, 35],\n",
       "       [36, 37],\n",
       "       [38, 39]])"
      ]
     },
     "execution_count": 11,
     "metadata": {},
     "output_type": "execute_result"
    }
   ],
   "source": [
    "a2.reshape(20,2)"
   ]
  },
  {
   "cell_type": "code",
   "execution_count": null,
   "id": "c633e801-384c-4c6f-b0ec-74d23fb097ea",
   "metadata": {},
   "outputs": [],
   "source": [
    "mat1 = a2.reshape(20, 2)"
   ]
  },
  {
   "cell_type": "code",
   "execution_count": null,
   "id": "8e0cb79f-7dad-422f-b4b8-4a695a2b86cd",
   "metadata": {},
   "outputs": [],
   "source": [
    "#Crear una n ueva matriz de 2x10 y multiplicarla la matriz anterior\n",
    "mat2"
   ]
  },
  {
   "cell_type": "code",
   "execution_count": 12,
   "id": "38d0f20e-4a77-422a-a09d-08f00eb1885e",
   "metadata": {},
   "outputs": [
    {
     "ename": "NameError",
     "evalue": "name 'mat1' is not defined",
     "output_type": "error",
     "traceback": [
      "\u001b[1;31m---------------------------------------------------------------------------\u001b[0m",
      "\u001b[1;31mNameError\u001b[0m                                 Traceback (most recent call last)",
      "Cell \u001b[1;32mIn[12], line 2\u001b[0m\n\u001b[0;32m      1\u001b[0m \u001b[38;5;66;03m#Obtener la transpueta de la matriz resultante\u001b[39;00m\n\u001b[1;32m----> 2\u001b[0m mat1\u001b[38;5;241m.\u001b[39mtranspose()\n\u001b[0;32m      3\u001b[0m mat1\u001b[38;5;241m.\u001b[39mT\n",
      "\u001b[1;31mNameError\u001b[0m: name 'mat1' is not defined"
     ]
    }
   ],
   "source": [
    "#Obtener la transpueta de la matriz resultante\n",
    "mat1.transpose()\n",
    "mat1.T"
   ]
  },
  {
   "cell_type": "code",
   "execution_count": null,
   "id": "68f80152-951e-4fb6-9061-93d9ac343381",
   "metadata": {},
   "outputs": [],
   "source": [
    "#Ejericio 2\n",
    "Se desea"
   ]
  },
  {
   "cell_type": "code",
   "execution_count": null,
   "id": "9ee1aac0-93c5-4e88-8568-b882b88991ac",
   "metadata": {},
   "outputs": [],
   "source": []
  }
 ],
 "metadata": {
  "kernelspec": {
   "display_name": "Python [conda env:base] *",
   "language": "python",
   "name": "conda-base-py"
  },
  "language_info": {
   "codemirror_mode": {
    "name": "ipython",
    "version": 3
   },
   "file_extension": ".py",
   "mimetype": "text/x-python",
   "name": "python",
   "nbconvert_exporter": "python",
   "pygments_lexer": "ipython3",
   "version": "3.13.5"
  }
 },
 "nbformat": 4,
 "nbformat_minor": 5
}
