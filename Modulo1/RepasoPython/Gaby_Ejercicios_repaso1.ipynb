{
 "cells": [
  {
   "cell_type": "markdown",
   "id": "537ee92d-c367-4929-a4e5-4811a62cdd72",
   "metadata": {},
   "source": [
    "<img style=\"float: left;;\" src='Figures/alinco.png' height=\"100\"/></a>\n",
    "\n",
    "# <center> <font color= #000047> Ejercicios Repaso</font> </center>\n",
    "\n"
   ]
  },
  {
   "cell_type": "markdown",
   "id": "2fa0fb58-c885-44ab-8ef5-47ecc49bc554",
   "metadata": {},
   "source": [
    "1.- Imprime los números del 1 al 10 usando un ciclo.\n",
    "\n",
    "2.- Calcula la suma de todos los números pares entre 1 y 100.\n",
    "\n",
    "3.- Pide al usuario un número y determina si es par o impar.\n",
    "\n",
    "4.- Crea una función que reciba una lista y devuelva la lista invertida.\n",
    "\n",
    "5.- Escribe un programa que calcule el factorial de un número dado por el usuario.\n",
    "\n",
    "6.- Crea una lista con los cuadrados de los números del 1 al 20.\n",
    "\n",
    "7.- Escribe una función que cuente cuántas veces aparece un elemento en una lista.\n",
    "\n",
    "8.- Pide al usuario una palabra y determina si es un palíndromo.\n",
    "\n",
    "9.- Escribe un programa que imprima la tabla de multiplicar de un número dado.\n",
    "\n",
    "10.- Crea un diccionario con nombres de personas y sus edades, luego imprime solo los nombres de las personas mayores de 18 años."
   ]
  },
  {
   "cell_type": "code",
   "execution_count": null,
   "id": "0770d739-6cd7-4000-aec9-696186bcd46e",
   "metadata": {},
   "outputs": [],
   "source": []
  },
  {
   "cell_type": "code",
   "execution_count": 3,
   "id": "676eeaf6-e7dc-4f5c-a3ec-c406a78185e2",
   "metadata": {},
   "outputs": [
    {
     "name": "stdout",
     "output_type": "stream",
     "text": [
      "1\n",
      "2\n",
      "3\n",
      "4\n",
      "5\n",
      "6\n",
      "7\n",
      "8\n",
      "9\n",
      "10\n"
     ]
    }
   ],
   "source": [
    "#Ejercicio 01. Imprime los números del 1 al 10 usando un ciclo\n",
    "\n",
    "for n in range (1, 11, 1):\n",
    "  print(n)"
   ]
  },
  {
   "cell_type": "code",
   "execution_count": 64,
   "id": "461cb368-c57d-4909-856a-ea852f1e50b3",
   "metadata": {},
   "outputs": [
    {
     "name": "stdout",
     "output_type": "stream",
     "text": [
      "Los números pares son [2, 4, 6, 8, 10, 12, 14, 16, 18, 20, 22, 24, 26, 28, 30, 32, 34, 36, 38, 40, 42, 44, 46, 48, 50, 52, 54, 56, 58, 60, 62, 64, 66, 68, 70, 72, 74, 76, 78, 80, 82, 84, 86, 88, 90, 92, 94, 96, 98, 100]\n",
      "La suma de los pares es: 2550\n"
     ]
    }
   ],
   "source": [
    "#Ejercicio 02. Calcula la suma de todos los números pares entre 1 y 100.\n",
    "   \n",
    "numeros = [n for n in range (1, 101, 1) if n % 2 == 0]\n",
    "print(f\"Los números pares son\", numeros)\n",
    "print(f\"La suma de los pares es:\", sum(numeros))\n"
   ]
  },
  {
   "cell_type": "code",
   "execution_count": 65,
   "id": "aff33ee7-8da1-43d2-9cbe-e8a1c1f4fe3e",
   "metadata": {},
   "outputs": [
    {
     "name": "stdin",
     "output_type": "stream",
     "text": [
      "El número:  8\n"
     ]
    },
    {
     "name": "stdout",
     "output_type": "stream",
     "text": [
      " 8 es número par\n"
     ]
    }
   ],
   "source": [
    "#Ejercicio 03. Pide al usuario un número y determina si es par o impar.\n",
    "\n",
    "a = int (input(\"El número: \"))\n",
    "\n",
    "if a % 2 == 0:\n",
    "    print(f\" {a} es número par\")\n",
    "else:\n",
    "    print(f\" {a} es número impar\")"
   ]
  },
  {
   "cell_type": "code",
   "execution_count": 16,
   "id": "e0f83c7a-cf00-4c28-869a-51c915e34f07",
   "metadata": {},
   "outputs": [
    {
     "name": "stdout",
     "output_type": "stream",
     "text": [
      "capricornio\n",
      "cancer\n",
      "sagitario\n",
      "acuario\n",
      "leo\n",
      "virgo\n",
      "libra\n",
      "geminis\n",
      "Termino la Lista\n"
     ]
    }
   ],
   "source": [
    "#Ejercicio 04. Crea una función que reciba una lista y devuelva la lista invertida.\n",
    "\n",
    "zodiaco = [\"geminis\", \"libra\", \"virgo\", \"leo\", \"acuario\", \"sagitario\", \"cancer\", \"capricornio\"]\n",
    "\n",
    "for i in reversed(zodiaco):\n",
    "  print(i)\n",
    "\n",
    "print(\"Termino la Lista\")"
   ]
  },
  {
   "cell_type": "code",
   "execution_count": 20,
   "id": "bb9d05d7-e4fe-4e04-ae3b-986172136b3e",
   "metadata": {},
   "outputs": [
    {
     "name": "stdin",
     "output_type": "stream",
     "text": [
      "Proporciona un número:  4\n"
     ]
    },
    {
     "name": "stdout",
     "output_type": "stream",
     "text": [
      "El factorial de 4 es:  24\n"
     ]
    }
   ],
   "source": [
    "#Ejercicio 05. Escribe un programa que calcule el factorial de un número dado por el usuario.\n",
    "\n",
    "import math\n",
    "a = int (input(\"Proporciona un número: \"))\n",
    "\n",
    "b = math.factorial(a)\n",
    "\n",
    "print(f\"El factorial de {a} es: \", b)"
   ]
  },
  {
   "cell_type": "code",
   "execution_count": 68,
   "id": "f4f381e3-05a5-4f8c-81fe-642904400405",
   "metadata": {},
   "outputs": [
    {
     "name": "stdout",
     "output_type": "stream",
     "text": [
      "Los números cuadrados son [1, 4, 9, 16, 25, 36, 49, 64, 81, 100, 121, 144, 169, 196, 225, 256, 289, 324, 361, 400]\n"
     ]
    }
   ],
   "source": [
    "#Ejercicio 06. Crea una lista con los cuadrados de los números del 1 al 20.\n",
    "numeros = [n**2 for n in range (1, 21, 1)]\n",
    "print(f\"Los números cuadrados son\", numeros)\n"
   ]
  },
  {
   "cell_type": "code",
   "execution_count": 9,
   "id": "14a40c6e-af11-413e-96c5-e2093017d2fc",
   "metadata": {},
   "outputs": [
    {
     "name": "stdout",
     "output_type": "stream",
     "text": [
      "5\n"
     ]
    }
   ],
   "source": [
    "#Ejercicio 07. Escribe una función que cuente cuántas veces aparece un elemento en una lista.\n",
    "def func_contar(lista,elemento):\n",
    "    contador = 0\n",
    "    for i in lista:\n",
    "        if lista[i] == elemento:\n",
    "            contador = contador + 1\n",
    "    return contador\n",
    "print (func_contar([2,1,5,2,4,1,3,1,6,1], 1))\n",
    "            "
   ]
  },
  {
   "cell_type": "code",
   "execution_count": 8,
   "id": "cc7fba19-3c69-4f99-8ebc-a5468945f8f7",
   "metadata": {},
   "outputs": [
    {
     "name": "stdin",
     "output_type": "stream",
     "text": [
      "Escribe una palabra:  reconocer\n"
     ]
    },
    {
     "name": "stdout",
     "output_type": "stream",
     "text": [
      "La palabra inversa se escribe: reconocer\n",
      "reconocer es un PALÍNDROMO\n"
     ]
    }
   ],
   "source": [
    "#Ejercicio 08. Pide al usuario una palabra y determina si es un palíndromo.\n",
    "\n",
    "palabra = str (input(\"Escribe una palabra: \"))\n",
    "palabrainv = palabra[::-1]\n",
    "print(f\"La palabra inversa se escribe: {palabrainv}\")\n",
    "if palabra == palabrainv:\n",
    "    print(f\"{palabra} es un PALÍNDROMO\")\n",
    "else:\n",
    "    print(f\"{palabra} NO es PALÍNDROMO\")\n"
   ]
  },
  {
   "cell_type": "code",
   "execution_count": 21,
   "id": "99b00282-a34d-43b7-9e24-42f83197b32c",
   "metadata": {},
   "outputs": [
    {
     "name": "stdin",
     "output_type": "stream",
     "text": [
      "Escribe el número multiplicador de la tabla:  9\n"
     ]
    },
    {
     "name": "stdout",
     "output_type": "stream",
     "text": [
      "1 * 9 = 9\n",
      "2 * 9 = 18\n",
      "3 * 9 = 27\n",
      "4 * 9 = 36\n",
      "5 * 9 = 45\n",
      "6 * 9 = 54\n",
      "7 * 9 = 63\n",
      "8 * 9 = 72\n",
      "9 * 9 = 81\n",
      "10 * 9 = 90\n"
     ]
    }
   ],
   "source": [
    "#Ejercicio 09. Escribe un programa que imprima la tabla de multiplicar de un número dado.\n",
    "multiplicador = int (input(\"Escribe el número multiplicador de la tabla: \"))\n",
    "\n",
    "multiplicando = 0\n",
    "while multiplicando < 10:\n",
    "    multiplicando +=1\n",
    "    producto = multiplicador * multiplicando\n",
    "    print(f\"{multiplicando} * {multiplicador} = {producto}\")\n"
   ]
  },
  {
   "cell_type": "code",
   "execution_count": 46,
   "id": "f3aa47b8-a922-4865-9e41-d1d37d91edd3",
   "metadata": {},
   "outputs": [
    {
     "name": "stdout",
     "output_type": "stream",
     "text": [
      "Persona mayor de 18 años:\n",
      "Nombre : Gabriela\n",
      "Edad : 25\n",
      "Ciudad : Querétaro\n"
     ]
    }
   ],
   "source": [
    "#Ejercicio 10. Crea un diccionario con nombres de personas y sus edades, luego imprime solo los nombres de las personas mayores de 18 años.\n",
    "    \n",
    "personal = {\"Nombre\": \"Gabriela\",\n",
    "            \"Edad\": 25,\n",
    "            \"Ciudad\": \"Querétaro\", \n",
    "           }\n",
    "mayor_edad = personal[\"Edad\"]\n",
    "if mayor_edad > 18:\n",
    "    print(\"Persona mayor de 18 años:\")\n",
    "    for campo, descripcion in personal.items():\n",
    "        print(campo, \":\", descripcion)\n",
    "else:\n",
    "    print(\"No hay personas mayores a 18 años\")"
   ]
  },
  {
   "cell_type": "code",
   "execution_count": 12,
   "id": "70458da5-c9b0-4bbb-9b7c-debc8f0fded7",
   "metadata": {},
   "outputs": [
    {
     "name": "stdout",
     "output_type": "stream",
     "text": [
      "Persona mayor de 18 años:\n",
      "Gabriela : 25\n",
      "No hay personas mayores a 18 años\n",
      "Persona mayor de 18 años:\n",
      "Francisco : 45\n",
      "No hay personas mayores a 18 años\n",
      "Persona mayor de 18 años:\n",
      "Adriana : 35\n"
     ]
    }
   ],
   "source": [
    "personal = {\"Gabriela\": 25, \"Rebeca\": 17, \"Francisco\": 45, \"Daniela\": 16, \"Adriana\": 35}\n",
    "for nombre, edad in personal.items():\n",
    "    if edad > 18:\n",
    "        print(\"Persona mayor de 18 años:\")\n",
    "        print(nombre, \":\", edad)\n",
    "    else:\n",
    "        print(\"No hay personas mayores a 18 años\")"
   ]
  },
  {
   "cell_type": "code",
   "execution_count": null,
   "id": "8ffc2559-21fb-4402-8276-8adb46ed6d18",
   "metadata": {},
   "outputs": [],
   "source": []
  }
 ],
 "metadata": {
  "kernelspec": {
   "display_name": "Python [conda env:base] *",
   "language": "python",
   "name": "conda-base-py"
  },
  "language_info": {
   "codemirror_mode": {
    "name": "ipython",
    "version": 3
   },
   "file_extension": ".py",
   "mimetype": "text/x-python",
   "name": "python",
   "nbconvert_exporter": "python",
   "pygments_lexer": "ipython3",
   "version": "3.13.5"
  }
 },
 "nbformat": 4,
 "nbformat_minor": 5
}
