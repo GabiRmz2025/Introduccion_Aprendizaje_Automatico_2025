{
 "cells": [
  {
   "cell_type": "markdown",
   "id": "6b223b44",
   "metadata": {},
   "source": [
    "Prueba de conexión\n"
   ]
  },
  {
   "cell_type": "code",
   "execution_count": null,
   "id": "a8497d9b",
   "metadata": {
    "vscode": {
     "languageId": "plaintext"
    }
   },
   "outputs": [],
   "source": []
  }
 ],
 "metadata": {
  "language_info": {
   "name": "python"
  }
 },
 "nbformat": 4,
 "nbformat_minor": 5
}
